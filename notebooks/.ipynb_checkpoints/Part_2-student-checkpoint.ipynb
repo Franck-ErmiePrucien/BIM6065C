{
 "cells": [
  {
   "cell_type": "markdown",
   "metadata": {},
   "source": [
    "(The spirit when programming: \"*Why spend 5 days doing some work when you can spend 5 weeks automating it!*\")"
   ]
  },
  {
   "cell_type": "markdown",
   "metadata": {},
   "source": [
    "# Creating your own kernel / environment"
   ]
  },
  {
   "cell_type": "markdown",
   "metadata": {},
   "source": [
    "Create a Python environment (where packages are installed):\n",
    "- Open a terminal\n",
    "- `python3 -m venv bioinfo`\n",
    "- `source bioinfo/bin/activate`"
   ]
  },
  {
   "cell_type": "markdown",
   "metadata": {},
   "source": [
    "Link it to a Jupyter kernel (so that your code execute with it):\n",
    "- `pip install ipykernel`\n",
    "- `python3 -m ipykernel install --user --name bioinfo --display-name \"Python (bioinfo)\"`"
   ]
  },
  {
   "cell_type": "markdown",
   "metadata": {},
   "source": [
    "Then you can install new packages:\n",
    "- `pip install pandas`"
   ]
  },
  {
   "cell_type": "markdown",
   "metadata": {},
   "source": [
    "In your notebook, you'll need to `Kernel` -> `Change kernel` to this new kernel. It is probably safe to then `Kernel` -> `Restart & clear output`. Make sure this new kernel is the one active (upper right corner of your screen, just below the button `Control Panel`)."
   ]
  },
  {
   "cell_type": "markdown",
   "metadata": {},
   "source": [
    "# Working with real data"
   ]
  },
  {
   "cell_type": "code",
   "execution_count": 1,
   "metadata": {},
   "outputs": [],
   "source": [
    "import pandas\n",
    "# We could import all the functions of pandas like this : from pandas import * (not recommanded)\n",
    "# We should : import pandas as pd (better option) -> Use pd.read_table for exemple instead of pandas.read_table"
   ]
  },
  {
   "cell_type": "markdown",
   "metadata": {},
   "source": [
    "## Read from / write to TSV and CSV files (in and out of Excel / R)"
   ]
  },
  {
   "cell_type": "markdown",
   "metadata": {},
   "source": [
    "(Doc: https://pandas.pydata.org/docs/reference/api/pandas.read_table.html#pandas.read_table)"
   ]
  },
  {
   "cell_type": "code",
   "execution_count": 2,
   "metadata": {},
   "outputs": [],
   "source": [
    "df = pandas.read_table(\"kmers.tsv\")"
   ]
  },
  {
   "cell_type": "code",
   "execution_count": 3,
   "metadata": {},
   "outputs": [
    {
     "data": {
      "text/html": [
       "<div>\n",
       "<style scoped>\n",
       "    .dataframe tbody tr th:only-of-type {\n",
       "        vertical-align: middle;\n",
       "    }\n",
       "\n",
       "    .dataframe tbody tr th {\n",
       "        vertical-align: top;\n",
       "    }\n",
       "\n",
       "    .dataframe thead th {\n",
       "        text-align: right;\n",
       "    }\n",
       "</style>\n",
       "<table border=\"1\" class=\"dataframe\">\n",
       "  <thead>\n",
       "    <tr style=\"text-align: right;\">\n",
       "      <th></th>\n",
       "      <th>Seq</th>\n",
       "      <th>Id</th>\n",
       "      <th>Count</th>\n",
       "    </tr>\n",
       "  </thead>\n",
       "  <tbody>\n",
       "    <tr>\n",
       "      <th>0</th>\n",
       "      <td>AAAAAAAAAAAAAAAAAAAAAAAAAAAAAAA</td>\n",
       "      <td>1</td>\n",
       "      <td>113422</td>\n",
       "    </tr>\n",
       "    <tr>\n",
       "      <th>1</th>\n",
       "      <td>CAGGACTCCAATATAGAGATAAGTTAATGTC</td>\n",
       "      <td>2</td>\n",
       "      <td>93</td>\n",
       "    </tr>\n",
       "    <tr>\n",
       "      <th>2</th>\n",
       "      <td>TATGTAATTGGTTCCAGTGTGAGTCATTAAA</td>\n",
       "      <td>3</td>\n",
       "      <td>5</td>\n",
       "    </tr>\n",
       "    <tr>\n",
       "      <th>3</th>\n",
       "      <td>GATATTTTCGAAAAGTGGGATTTTTTAAACC</td>\n",
       "      <td>4</td>\n",
       "      <td>88</td>\n",
       "    </tr>\n",
       "    <tr>\n",
       "      <th>4</th>\n",
       "      <td>CTCCATCTCAGGTATTAGAATGAATGCTTAC</td>\n",
       "      <td>5</td>\n",
       "      <td>7</td>\n",
       "    </tr>\n",
       "    <tr>\n",
       "      <th>...</th>\n",
       "      <td>...</td>\n",
       "      <td>...</td>\n",
       "      <td>...</td>\n",
       "    </tr>\n",
       "    <tr>\n",
       "      <th>3995</th>\n",
       "      <td>AGCTGCAGGAACTCCCTCGTCACAGCTTAAA</td>\n",
       "      <td>3996</td>\n",
       "      <td>5</td>\n",
       "    </tr>\n",
       "    <tr>\n",
       "      <th>3996</th>\n",
       "      <td>CTGAGCTCTCTGGGAAAGTCGTGTTCCGGAA</td>\n",
       "      <td>3997</td>\n",
       "      <td>5</td>\n",
       "    </tr>\n",
       "    <tr>\n",
       "      <th>3997</th>\n",
       "      <td>GTCTGCCTTTATGGCCTTTGTACTCAAAGAA</td>\n",
       "      <td>3998</td>\n",
       "      <td>10</td>\n",
       "    </tr>\n",
       "    <tr>\n",
       "      <th>3998</th>\n",
       "      <td>AGACTATAGTGAGCTCAGGTGATTGATACTC</td>\n",
       "      <td>3999</td>\n",
       "      <td>7</td>\n",
       "    </tr>\n",
       "    <tr>\n",
       "      <th>3999</th>\n",
       "      <td>AAACCCAGTCACTGGACACCTAAGTGTCCAC</td>\n",
       "      <td>4000</td>\n",
       "      <td>11</td>\n",
       "    </tr>\n",
       "  </tbody>\n",
       "</table>\n",
       "<p>4000 rows × 3 columns</p>\n",
       "</div>"
      ],
      "text/plain": [
       "                                  Seq    Id   Count\n",
       "0     AAAAAAAAAAAAAAAAAAAAAAAAAAAAAAA     1  113422\n",
       "1     CAGGACTCCAATATAGAGATAAGTTAATGTC     2      93\n",
       "2     TATGTAATTGGTTCCAGTGTGAGTCATTAAA     3       5\n",
       "3     GATATTTTCGAAAAGTGGGATTTTTTAAACC     4      88\n",
       "4     CTCCATCTCAGGTATTAGAATGAATGCTTAC     5       7\n",
       "...                               ...   ...     ...\n",
       "3995  AGCTGCAGGAACTCCCTCGTCACAGCTTAAA  3996       5\n",
       "3996  CTGAGCTCTCTGGGAAAGTCGTGTTCCGGAA  3997       5\n",
       "3997  GTCTGCCTTTATGGCCTTTGTACTCAAAGAA  3998      10\n",
       "3998  AGACTATAGTGAGCTCAGGTGATTGATACTC  3999       7\n",
       "3999  AAACCCAGTCACTGGACACCTAAGTGTCCAC  4000      11\n",
       "\n",
       "[4000 rows x 3 columns]"
      ]
     },
     "execution_count": 3,
     "metadata": {},
     "output_type": "execute_result"
    }
   ],
   "source": [
    "df"
   ]
  },
  {
   "cell_type": "markdown",
   "metadata": {},
   "source": [
    "(Doc: https://pandas.pydata.org/docs/reference/api/pandas.DataFrame.to_csv.html)"
   ]
  },
  {
   "cell_type": "code",
   "execution_count": 4,
   "metadata": {},
   "outputs": [],
   "source": [
    "df.to_csv(\"test.csv\")"
   ]
  },
  {
   "cell_type": "markdown",
   "metadata": {},
   "source": [
    "## Dataframe manipulation"
   ]
  },
  {
   "cell_type": "markdown",
   "metadata": {},
   "source": [
    "(.head(), .tail(), .shape, .colums, sum(), len(), .describe(), [\"Col\"], .drop())"
   ]
  },
  {
   "cell_type": "code",
   "execution_count": 5,
   "metadata": {},
   "outputs": [
    {
     "data": {
      "text/html": [
       "<div>\n",
       "<style scoped>\n",
       "    .dataframe tbody tr th:only-of-type {\n",
       "        vertical-align: middle;\n",
       "    }\n",
       "\n",
       "    .dataframe tbody tr th {\n",
       "        vertical-align: top;\n",
       "    }\n",
       "\n",
       "    .dataframe thead th {\n",
       "        text-align: right;\n",
       "    }\n",
       "</style>\n",
       "<table border=\"1\" class=\"dataframe\">\n",
       "  <thead>\n",
       "    <tr style=\"text-align: right;\">\n",
       "      <th></th>\n",
       "      <th>Seq</th>\n",
       "      <th>Id</th>\n",
       "      <th>Count</th>\n",
       "    </tr>\n",
       "  </thead>\n",
       "  <tbody>\n",
       "    <tr>\n",
       "      <th>0</th>\n",
       "      <td>AAAAAAAAAAAAAAAAAAAAAAAAAAAAAAA</td>\n",
       "      <td>1</td>\n",
       "      <td>113422</td>\n",
       "    </tr>\n",
       "    <tr>\n",
       "      <th>1</th>\n",
       "      <td>CAGGACTCCAATATAGAGATAAGTTAATGTC</td>\n",
       "      <td>2</td>\n",
       "      <td>93</td>\n",
       "    </tr>\n",
       "    <tr>\n",
       "      <th>2</th>\n",
       "      <td>TATGTAATTGGTTCCAGTGTGAGTCATTAAA</td>\n",
       "      <td>3</td>\n",
       "      <td>5</td>\n",
       "    </tr>\n",
       "    <tr>\n",
       "      <th>3</th>\n",
       "      <td>GATATTTTCGAAAAGTGGGATTTTTTAAACC</td>\n",
       "      <td>4</td>\n",
       "      <td>88</td>\n",
       "    </tr>\n",
       "    <tr>\n",
       "      <th>4</th>\n",
       "      <td>CTCCATCTCAGGTATTAGAATGAATGCTTAC</td>\n",
       "      <td>5</td>\n",
       "      <td>7</td>\n",
       "    </tr>\n",
       "  </tbody>\n",
       "</table>\n",
       "</div>"
      ],
      "text/plain": [
       "                               Seq  Id   Count\n",
       "0  AAAAAAAAAAAAAAAAAAAAAAAAAAAAAAA   1  113422\n",
       "1  CAGGACTCCAATATAGAGATAAGTTAATGTC   2      93\n",
       "2  TATGTAATTGGTTCCAGTGTGAGTCATTAAA   3       5\n",
       "3  GATATTTTCGAAAAGTGGGATTTTTTAAACC   4      88\n",
       "4  CTCCATCTCAGGTATTAGAATGAATGCTTAC   5       7"
      ]
     },
     "execution_count": 5,
     "metadata": {},
     "output_type": "execute_result"
    }
   ],
   "source": [
    "df.head()"
   ]
  },
  {
   "cell_type": "code",
   "execution_count": 6,
   "metadata": {},
   "outputs": [
    {
     "data": {
      "text/html": [
       "<div>\n",
       "<style scoped>\n",
       "    .dataframe tbody tr th:only-of-type {\n",
       "        vertical-align: middle;\n",
       "    }\n",
       "\n",
       "    .dataframe tbody tr th {\n",
       "        vertical-align: top;\n",
       "    }\n",
       "\n",
       "    .dataframe thead th {\n",
       "        text-align: right;\n",
       "    }\n",
       "</style>\n",
       "<table border=\"1\" class=\"dataframe\">\n",
       "  <thead>\n",
       "    <tr style=\"text-align: right;\">\n",
       "      <th></th>\n",
       "      <th>Seq</th>\n",
       "      <th>Id</th>\n",
       "      <th>Count</th>\n",
       "    </tr>\n",
       "  </thead>\n",
       "  <tbody>\n",
       "    <tr>\n",
       "      <th>3995</th>\n",
       "      <td>AGCTGCAGGAACTCCCTCGTCACAGCTTAAA</td>\n",
       "      <td>3996</td>\n",
       "      <td>5</td>\n",
       "    </tr>\n",
       "    <tr>\n",
       "      <th>3996</th>\n",
       "      <td>CTGAGCTCTCTGGGAAAGTCGTGTTCCGGAA</td>\n",
       "      <td>3997</td>\n",
       "      <td>5</td>\n",
       "    </tr>\n",
       "    <tr>\n",
       "      <th>3997</th>\n",
       "      <td>GTCTGCCTTTATGGCCTTTGTACTCAAAGAA</td>\n",
       "      <td>3998</td>\n",
       "      <td>10</td>\n",
       "    </tr>\n",
       "    <tr>\n",
       "      <th>3998</th>\n",
       "      <td>AGACTATAGTGAGCTCAGGTGATTGATACTC</td>\n",
       "      <td>3999</td>\n",
       "      <td>7</td>\n",
       "    </tr>\n",
       "    <tr>\n",
       "      <th>3999</th>\n",
       "      <td>AAACCCAGTCACTGGACACCTAAGTGTCCAC</td>\n",
       "      <td>4000</td>\n",
       "      <td>11</td>\n",
       "    </tr>\n",
       "  </tbody>\n",
       "</table>\n",
       "</div>"
      ],
      "text/plain": [
       "                                  Seq    Id  Count\n",
       "3995  AGCTGCAGGAACTCCCTCGTCACAGCTTAAA  3996      5\n",
       "3996  CTGAGCTCTCTGGGAAAGTCGTGTTCCGGAA  3997      5\n",
       "3997  GTCTGCCTTTATGGCCTTTGTACTCAAAGAA  3998     10\n",
       "3998  AGACTATAGTGAGCTCAGGTGATTGATACTC  3999      7\n",
       "3999  AAACCCAGTCACTGGACACCTAAGTGTCCAC  4000     11"
      ]
     },
     "execution_count": 6,
     "metadata": {},
     "output_type": "execute_result"
    }
   ],
   "source": [
    "df.tail()"
   ]
  },
  {
   "cell_type": "code",
   "execution_count": 7,
   "metadata": {},
   "outputs": [
    {
     "data": {
      "text/plain": [
       "(4000, 3)"
      ]
     },
     "execution_count": 7,
     "metadata": {},
     "output_type": "execute_result"
    }
   ],
   "source": [
    "df.shape"
   ]
  },
  {
   "cell_type": "code",
   "execution_count": 8,
   "metadata": {},
   "outputs": [
    {
     "data": {
      "text/plain": [
       "Index(['Seq', 'Id', 'Count'], dtype='object')"
      ]
     },
     "execution_count": 8,
     "metadata": {},
     "output_type": "execute_result"
    }
   ],
   "source": [
    "df.columns"
   ]
  },
  {
   "cell_type": "code",
   "execution_count": 9,
   "metadata": {},
   "outputs": [
    {
     "data": {
      "text/plain": [
       "Seq      AAAAAAAAAAAAAAAAAAAAAAAAAAAAAAACAGGACTCCAATATA...\n",
       "Id                                                 8002000\n",
       "Count                                               372648\n",
       "dtype: object"
      ]
     },
     "execution_count": 9,
     "metadata": {},
     "output_type": "execute_result"
    }
   ],
   "source": [
    "df.sum()"
   ]
  },
  {
   "cell_type": "code",
   "execution_count": 10,
   "metadata": {},
   "outputs": [
    {
     "data": {
      "text/plain": [
       "0       113422\n",
       "1           93\n",
       "2            5\n",
       "3           88\n",
       "4            7\n",
       "         ...  \n",
       "3995         5\n",
       "3996         5\n",
       "3997        10\n",
       "3998         7\n",
       "3999        11\n",
       "Name: Count, Length: 4000, dtype: int64"
      ]
     },
     "execution_count": 10,
     "metadata": {},
     "output_type": "execute_result"
    }
   ],
   "source": [
    "df.Count"
   ]
  },
  {
   "cell_type": "code",
   "execution_count": 11,
   "metadata": {},
   "outputs": [
    {
     "data": {
      "text/plain": [
       "372648"
      ]
     },
     "execution_count": 11,
     "metadata": {},
     "output_type": "execute_result"
    }
   ],
   "source": [
    "sum(df.Count)"
   ]
  },
  {
   "cell_type": "code",
   "execution_count": 12,
   "metadata": {},
   "outputs": [
    {
     "data": {
      "text/plain": [
       "4000"
      ]
     },
     "execution_count": 12,
     "metadata": {},
     "output_type": "execute_result"
    }
   ],
   "source": [
    "len(df.Count)"
   ]
  },
  {
   "cell_type": "code",
   "execution_count": 13,
   "metadata": {},
   "outputs": [
    {
     "data": {
      "text/plain": [
       "93.162"
      ]
     },
     "execution_count": 13,
     "metadata": {},
     "output_type": "execute_result"
    }
   ],
   "source": [
    "sum(df.Count)/len(df.Count)\n",
    "#Average lenght of sequences"
   ]
  },
  {
   "cell_type": "code",
   "execution_count": 14,
   "metadata": {},
   "outputs": [
    {
     "data": {
      "text/html": [
       "<div>\n",
       "<style scoped>\n",
       "    .dataframe tbody tr th:only-of-type {\n",
       "        vertical-align: middle;\n",
       "    }\n",
       "\n",
       "    .dataframe tbody tr th {\n",
       "        vertical-align: top;\n",
       "    }\n",
       "\n",
       "    .dataframe thead th {\n",
       "        text-align: right;\n",
       "    }\n",
       "</style>\n",
       "<table border=\"1\" class=\"dataframe\">\n",
       "  <thead>\n",
       "    <tr style=\"text-align: right;\">\n",
       "      <th></th>\n",
       "      <th>Id</th>\n",
       "      <th>Count</th>\n",
       "    </tr>\n",
       "  </thead>\n",
       "  <tbody>\n",
       "    <tr>\n",
       "      <th>count</th>\n",
       "      <td>4000.000000</td>\n",
       "      <td>4000.000000</td>\n",
       "    </tr>\n",
       "    <tr>\n",
       "      <th>mean</th>\n",
       "      <td>2000.500000</td>\n",
       "      <td>93.162000</td>\n",
       "    </tr>\n",
       "    <tr>\n",
       "      <th>std</th>\n",
       "      <td>1154.844867</td>\n",
       "      <td>1804.997654</td>\n",
       "    </tr>\n",
       "    <tr>\n",
       "      <th>min</th>\n",
       "      <td>1.000000</td>\n",
       "      <td>5.000000</td>\n",
       "    </tr>\n",
       "    <tr>\n",
       "      <th>25%</th>\n",
       "      <td>1000.750000</td>\n",
       "      <td>7.000000</td>\n",
       "    </tr>\n",
       "    <tr>\n",
       "      <th>50%</th>\n",
       "      <td>2000.500000</td>\n",
       "      <td>14.000000</td>\n",
       "    </tr>\n",
       "    <tr>\n",
       "      <th>75%</th>\n",
       "      <td>3000.250000</td>\n",
       "      <td>42.000000</td>\n",
       "    </tr>\n",
       "    <tr>\n",
       "      <th>max</th>\n",
       "      <td>4000.000000</td>\n",
       "      <td>113422.000000</td>\n",
       "    </tr>\n",
       "  </tbody>\n",
       "</table>\n",
       "</div>"
      ],
      "text/plain": [
       "                Id          Count\n",
       "count  4000.000000    4000.000000\n",
       "mean   2000.500000      93.162000\n",
       "std    1154.844867    1804.997654\n",
       "min       1.000000       5.000000\n",
       "25%    1000.750000       7.000000\n",
       "50%    2000.500000      14.000000\n",
       "75%    3000.250000      42.000000\n",
       "max    4000.000000  113422.000000"
      ]
     },
     "execution_count": 14,
     "metadata": {},
     "output_type": "execute_result"
    }
   ],
   "source": [
    "df.describe()"
   ]
  },
  {
   "cell_type": "code",
   "execution_count": 15,
   "metadata": {},
   "outputs": [
    {
     "data": {
      "text/plain": [
       "0       AAAAAAAAAAAAAAAAAAAAAAAAAAAAAAA\n",
       "1       CAGGACTCCAATATAGAGATAAGTTAATGTC\n",
       "2       TATGTAATTGGTTCCAGTGTGAGTCATTAAA\n",
       "3       GATATTTTCGAAAAGTGGGATTTTTTAAACC\n",
       "4       CTCCATCTCAGGTATTAGAATGAATGCTTAC\n",
       "                     ...               \n",
       "3995    AGCTGCAGGAACTCCCTCGTCACAGCTTAAA\n",
       "3996    CTGAGCTCTCTGGGAAAGTCGTGTTCCGGAA\n",
       "3997    GTCTGCCTTTATGGCCTTTGTACTCAAAGAA\n",
       "3998    AGACTATAGTGAGCTCAGGTGATTGATACTC\n",
       "3999    AAACCCAGTCACTGGACACCTAAGTGTCCAC\n",
       "Name: Seq, Length: 4000, dtype: object"
      ]
     },
     "execution_count": 15,
     "metadata": {},
     "output_type": "execute_result"
    }
   ],
   "source": [
    "df.Seq"
   ]
  },
  {
   "cell_type": "code",
   "execution_count": 16,
   "metadata": {},
   "outputs": [
    {
     "data": {
      "text/plain": [
       "0       AAAAAAAAAAAAAAAAAAAAAAAAAAAAAAA\n",
       "1       CAGGACTCCAATATAGAGATAAGTTAATGTC\n",
       "2       TATGTAATTGGTTCCAGTGTGAGTCATTAAA\n",
       "3       GATATTTTCGAAAAGTGGGATTTTTTAAACC\n",
       "4       CTCCATCTCAGGTATTAGAATGAATGCTTAC\n",
       "                     ...               \n",
       "3995    AGCTGCAGGAACTCCCTCGTCACAGCTTAAA\n",
       "3996    CTGAGCTCTCTGGGAAAGTCGTGTTCCGGAA\n",
       "3997    GTCTGCCTTTATGGCCTTTGTACTCAAAGAA\n",
       "3998    AGACTATAGTGAGCTCAGGTGATTGATACTC\n",
       "3999    AAACCCAGTCACTGGACACCTAAGTGTCCAC\n",
       "Name: Seq, Length: 4000, dtype: object"
      ]
     },
     "execution_count": 16,
     "metadata": {},
     "output_type": "execute_result"
    }
   ],
   "source": [
    "df[\"Seq\"]\n",
    "#Same thing as df.column name -> df.Seq"
   ]
  },
  {
   "cell_type": "markdown",
   "metadata": {},
   "source": [
    "(Arithmetics on columns)"
   ]
  },
  {
   "cell_type": "code",
   "execution_count": 17,
   "metadata": {},
   "outputs": [
    {
     "data": {
      "text/html": [
       "<div>\n",
       "<style scoped>\n",
       "    .dataframe tbody tr th:only-of-type {\n",
       "        vertical-align: middle;\n",
       "    }\n",
       "\n",
       "    .dataframe tbody tr th {\n",
       "        vertical-align: top;\n",
       "    }\n",
       "\n",
       "    .dataframe thead th {\n",
       "        text-align: right;\n",
       "    }\n",
       "</style>\n",
       "<table border=\"1\" class=\"dataframe\">\n",
       "  <thead>\n",
       "    <tr style=\"text-align: right;\">\n",
       "      <th></th>\n",
       "      <th>Seq</th>\n",
       "      <th>Id</th>\n",
       "      <th>Count</th>\n",
       "      <th>Test</th>\n",
       "    </tr>\n",
       "  </thead>\n",
       "  <tbody>\n",
       "    <tr>\n",
       "      <th>0</th>\n",
       "      <td>AAAAAAAAAAAAAAAAAAAAAAAAAAAAAAA</td>\n",
       "      <td>1</td>\n",
       "      <td>113422</td>\n",
       "      <td>23</td>\n",
       "    </tr>\n",
       "    <tr>\n",
       "      <th>1</th>\n",
       "      <td>CAGGACTCCAATATAGAGATAAGTTAATGTC</td>\n",
       "      <td>2</td>\n",
       "      <td>93</td>\n",
       "      <td>23</td>\n",
       "    </tr>\n",
       "    <tr>\n",
       "      <th>2</th>\n",
       "      <td>TATGTAATTGGTTCCAGTGTGAGTCATTAAA</td>\n",
       "      <td>3</td>\n",
       "      <td>5</td>\n",
       "      <td>23</td>\n",
       "    </tr>\n",
       "    <tr>\n",
       "      <th>3</th>\n",
       "      <td>GATATTTTCGAAAAGTGGGATTTTTTAAACC</td>\n",
       "      <td>4</td>\n",
       "      <td>88</td>\n",
       "      <td>23</td>\n",
       "    </tr>\n",
       "    <tr>\n",
       "      <th>4</th>\n",
       "      <td>CTCCATCTCAGGTATTAGAATGAATGCTTAC</td>\n",
       "      <td>5</td>\n",
       "      <td>7</td>\n",
       "      <td>23</td>\n",
       "    </tr>\n",
       "    <tr>\n",
       "      <th>...</th>\n",
       "      <td>...</td>\n",
       "      <td>...</td>\n",
       "      <td>...</td>\n",
       "      <td>...</td>\n",
       "    </tr>\n",
       "    <tr>\n",
       "      <th>3995</th>\n",
       "      <td>AGCTGCAGGAACTCCCTCGTCACAGCTTAAA</td>\n",
       "      <td>3996</td>\n",
       "      <td>5</td>\n",
       "      <td>23</td>\n",
       "    </tr>\n",
       "    <tr>\n",
       "      <th>3996</th>\n",
       "      <td>CTGAGCTCTCTGGGAAAGTCGTGTTCCGGAA</td>\n",
       "      <td>3997</td>\n",
       "      <td>5</td>\n",
       "      <td>23</td>\n",
       "    </tr>\n",
       "    <tr>\n",
       "      <th>3997</th>\n",
       "      <td>GTCTGCCTTTATGGCCTTTGTACTCAAAGAA</td>\n",
       "      <td>3998</td>\n",
       "      <td>10</td>\n",
       "      <td>23</td>\n",
       "    </tr>\n",
       "    <tr>\n",
       "      <th>3998</th>\n",
       "      <td>AGACTATAGTGAGCTCAGGTGATTGATACTC</td>\n",
       "      <td>3999</td>\n",
       "      <td>7</td>\n",
       "      <td>23</td>\n",
       "    </tr>\n",
       "    <tr>\n",
       "      <th>3999</th>\n",
       "      <td>AAACCCAGTCACTGGACACCTAAGTGTCCAC</td>\n",
       "      <td>4000</td>\n",
       "      <td>11</td>\n",
       "      <td>23</td>\n",
       "    </tr>\n",
       "  </tbody>\n",
       "</table>\n",
       "<p>4000 rows × 4 columns</p>\n",
       "</div>"
      ],
      "text/plain": [
       "                                  Seq    Id   Count  Test\n",
       "0     AAAAAAAAAAAAAAAAAAAAAAAAAAAAAAA     1  113422    23\n",
       "1     CAGGACTCCAATATAGAGATAAGTTAATGTC     2      93    23\n",
       "2     TATGTAATTGGTTCCAGTGTGAGTCATTAAA     3       5    23\n",
       "3     GATATTTTCGAAAAGTGGGATTTTTTAAACC     4      88    23\n",
       "4     CTCCATCTCAGGTATTAGAATGAATGCTTAC     5       7    23\n",
       "...                               ...   ...     ...   ...\n",
       "3995  AGCTGCAGGAACTCCCTCGTCACAGCTTAAA  3996       5    23\n",
       "3996  CTGAGCTCTCTGGGAAAGTCGTGTTCCGGAA  3997       5    23\n",
       "3997  GTCTGCCTTTATGGCCTTTGTACTCAAAGAA  3998      10    23\n",
       "3998  AGACTATAGTGAGCTCAGGTGATTGATACTC  3999       7    23\n",
       "3999  AAACCCAGTCACTGGACACCTAAGTGTCCAC  4000      11    23\n",
       "\n",
       "[4000 rows x 4 columns]"
      ]
     },
     "execution_count": 17,
     "metadata": {},
     "output_type": "execute_result"
    }
   ],
   "source": [
    "df[\"Test\"] = 23\n",
    "df\n",
    "#Added a new column with 23 as a value"
   ]
  },
  {
   "cell_type": "code",
   "execution_count": 18,
   "metadata": {},
   "outputs": [
    {
     "data": {
      "text/html": [
       "<div>\n",
       "<style scoped>\n",
       "    .dataframe tbody tr th:only-of-type {\n",
       "        vertical-align: middle;\n",
       "    }\n",
       "\n",
       "    .dataframe tbody tr th {\n",
       "        vertical-align: top;\n",
       "    }\n",
       "\n",
       "    .dataframe thead th {\n",
       "        text-align: right;\n",
       "    }\n",
       "</style>\n",
       "<table border=\"1\" class=\"dataframe\">\n",
       "  <thead>\n",
       "    <tr style=\"text-align: right;\">\n",
       "      <th></th>\n",
       "      <th>Seq</th>\n",
       "      <th>Id</th>\n",
       "      <th>Count</th>\n",
       "      <th>Test</th>\n",
       "      <th>frac</th>\n",
       "    </tr>\n",
       "  </thead>\n",
       "  <tbody>\n",
       "    <tr>\n",
       "      <th>0</th>\n",
       "      <td>AAAAAAAAAAAAAAAAAAAAAAAAAAAAAAA</td>\n",
       "      <td>1</td>\n",
       "      <td>113422</td>\n",
       "      <td>23</td>\n",
       "      <td>30.436766</td>\n",
       "    </tr>\n",
       "    <tr>\n",
       "      <th>1</th>\n",
       "      <td>CAGGACTCCAATATAGAGATAAGTTAATGTC</td>\n",
       "      <td>2</td>\n",
       "      <td>93</td>\n",
       "      <td>23</td>\n",
       "      <td>0.024957</td>\n",
       "    </tr>\n",
       "    <tr>\n",
       "      <th>2</th>\n",
       "      <td>TATGTAATTGGTTCCAGTGTGAGTCATTAAA</td>\n",
       "      <td>3</td>\n",
       "      <td>5</td>\n",
       "      <td>23</td>\n",
       "      <td>0.001342</td>\n",
       "    </tr>\n",
       "    <tr>\n",
       "      <th>3</th>\n",
       "      <td>GATATTTTCGAAAAGTGGGATTTTTTAAACC</td>\n",
       "      <td>4</td>\n",
       "      <td>88</td>\n",
       "      <td>23</td>\n",
       "      <td>0.023615</td>\n",
       "    </tr>\n",
       "    <tr>\n",
       "      <th>4</th>\n",
       "      <td>CTCCATCTCAGGTATTAGAATGAATGCTTAC</td>\n",
       "      <td>5</td>\n",
       "      <td>7</td>\n",
       "      <td>23</td>\n",
       "      <td>0.001878</td>\n",
       "    </tr>\n",
       "    <tr>\n",
       "      <th>...</th>\n",
       "      <td>...</td>\n",
       "      <td>...</td>\n",
       "      <td>...</td>\n",
       "      <td>...</td>\n",
       "      <td>...</td>\n",
       "    </tr>\n",
       "    <tr>\n",
       "      <th>3995</th>\n",
       "      <td>AGCTGCAGGAACTCCCTCGTCACAGCTTAAA</td>\n",
       "      <td>3996</td>\n",
       "      <td>5</td>\n",
       "      <td>23</td>\n",
       "      <td>0.001342</td>\n",
       "    </tr>\n",
       "    <tr>\n",
       "      <th>3996</th>\n",
       "      <td>CTGAGCTCTCTGGGAAAGTCGTGTTCCGGAA</td>\n",
       "      <td>3997</td>\n",
       "      <td>5</td>\n",
       "      <td>23</td>\n",
       "      <td>0.001342</td>\n",
       "    </tr>\n",
       "    <tr>\n",
       "      <th>3997</th>\n",
       "      <td>GTCTGCCTTTATGGCCTTTGTACTCAAAGAA</td>\n",
       "      <td>3998</td>\n",
       "      <td>10</td>\n",
       "      <td>23</td>\n",
       "      <td>0.002683</td>\n",
       "    </tr>\n",
       "    <tr>\n",
       "      <th>3998</th>\n",
       "      <td>AGACTATAGTGAGCTCAGGTGATTGATACTC</td>\n",
       "      <td>3999</td>\n",
       "      <td>7</td>\n",
       "      <td>23</td>\n",
       "      <td>0.001878</td>\n",
       "    </tr>\n",
       "    <tr>\n",
       "      <th>3999</th>\n",
       "      <td>AAACCCAGTCACTGGACACCTAAGTGTCCAC</td>\n",
       "      <td>4000</td>\n",
       "      <td>11</td>\n",
       "      <td>23</td>\n",
       "      <td>0.002952</td>\n",
       "    </tr>\n",
       "  </tbody>\n",
       "</table>\n",
       "<p>4000 rows × 5 columns</p>\n",
       "</div>"
      ],
      "text/plain": [
       "                                  Seq    Id   Count  Test       frac\n",
       "0     AAAAAAAAAAAAAAAAAAAAAAAAAAAAAAA     1  113422    23  30.436766\n",
       "1     CAGGACTCCAATATAGAGATAAGTTAATGTC     2      93    23   0.024957\n",
       "2     TATGTAATTGGTTCCAGTGTGAGTCATTAAA     3       5    23   0.001342\n",
       "3     GATATTTTCGAAAAGTGGGATTTTTTAAACC     4      88    23   0.023615\n",
       "4     CTCCATCTCAGGTATTAGAATGAATGCTTAC     5       7    23   0.001878\n",
       "...                               ...   ...     ...   ...        ...\n",
       "3995  AGCTGCAGGAACTCCCTCGTCACAGCTTAAA  3996       5    23   0.001342\n",
       "3996  CTGAGCTCTCTGGGAAAGTCGTGTTCCGGAA  3997       5    23   0.001342\n",
       "3997  GTCTGCCTTTATGGCCTTTGTACTCAAAGAA  3998      10    23   0.002683\n",
       "3998  AGACTATAGTGAGCTCAGGTGATTGATACTC  3999       7    23   0.001878\n",
       "3999  AAACCCAGTCACTGGACACCTAAGTGTCCAC  4000      11    23   0.002952\n",
       "\n",
       "[4000 rows x 5 columns]"
      ]
     },
     "execution_count": 18,
     "metadata": {},
     "output_type": "execute_result"
    }
   ],
   "source": [
    "df[\"frac\"] = df.Count / sum(df.Count)*100\n",
    "df\n",
    "#Added a column with fraction of count for every sequence "
   ]
  },
  {
   "cell_type": "code",
   "execution_count": 19,
   "metadata": {},
   "outputs": [
    {
     "data": {
      "text/plain": [
       "0        True\n",
       "1       False\n",
       "2       False\n",
       "3       False\n",
       "4       False\n",
       "        ...  \n",
       "3995    False\n",
       "3996    False\n",
       "3997    False\n",
       "3998    False\n",
       "3999    False\n",
       "Name: Count, Length: 4000, dtype: bool"
      ]
     },
     "execution_count": 19,
     "metadata": {},
     "output_type": "execute_result"
    }
   ],
   "source": [
    "#Calculate how many sequences have a count higher than something (here a 100) -> We put it in the object o\n",
    "#True = 1 and False = 0\n",
    "o = df.Count >= 100\n",
    "o"
   ]
  },
  {
   "cell_type": "code",
   "execution_count": 20,
   "metadata": {},
   "outputs": [
    {
     "data": {
      "text/plain": [
       "543"
      ]
     },
     "execution_count": 20,
     "metadata": {},
     "output_type": "execute_result"
    }
   ],
   "source": [
    "#Sum of all the True answers -> Higher count than a 100\n",
    "sum(o)"
   ]
  },
  {
   "cell_type": "code",
   "execution_count": 21,
   "metadata": {},
   "outputs": [
    {
     "data": {
      "text/plain": [
       "0       AAAAAAAAAAAAAAAAAAAAAAAAAAAAAAA\n",
       "6       CTTCCATGGCTGTCCGGATCGCCGCACTGCA\n",
       "7       GCACCAGGCCTTTCTCTAGAAGTCCTGAGAC\n",
       "11      ATCAATCGACTCAGATGATCAGTTTTGGTAG\n",
       "15      GGCCTGGGCTGGAAACAGCTCTGTGTGTGAA\n",
       "                     ...               \n",
       "3969    AGTTTTCTAAAAAGGGGGAGAGTTGTGAAAG\n",
       "3973    ATTATCTGGGCGTGGTGGCATGTGCCTGTAG\n",
       "3975    CCTATGCTTTCCTTGGCATCGGCTACACATC\n",
       "3987    AAGGGTGTCCTGCTCCTTGACCACGATGGGG\n",
       "3994    AACCCAAGGAAAGAGAAATGCTGGGGTGTAT\n",
       "Name: Seq, Length: 543, dtype: object"
      ]
     },
     "execution_count": 21,
     "metadata": {},
     "output_type": "execute_result"
    }
   ],
   "source": [
    "#Extract the values of all the True entries\n",
    "df.Seq[o]"
   ]
  },
  {
   "cell_type": "markdown",
   "metadata": {},
   "source": [
    "## Guided exercise(s) here..."
   ]
  },
  {
   "cell_type": "markdown",
   "metadata": {},
   "source": [
    "### 1) Add a column with nucleotide count (A)\n",
    "([loc](https://pandas.pydata.org/docs/reference/api/pandas.DataFrame.loc.html)[*row*,*col*], .[apply](https://pandas.pydata.org/docs/reference/api/pandas.DataFrame.apply.html)())"
   ]
  },
  {
   "cell_type": "code",
   "execution_count": 22,
   "metadata": {},
   "outputs": [],
   "source": [
    "#From yesterday's class\n",
    "def count_nuc(my_seq, nuc):\n",
    "    total = 0\n",
    "    for c in my_seq:\n",
    "        if c == nuc:\n",
    "            total = total + 1\n",
    "    return total"
   ]
  },
  {
   "cell_type": "markdown",
   "metadata": {},
   "source": [
    "(First step: We'll try to first apply it to the second row, counting As only)"
   ]
  },
  {
   "cell_type": "code",
   "execution_count": 23,
   "metadata": {},
   "outputs": [
    {
     "data": {
      "text/plain": [
       "12"
      ]
     },
     "execution_count": 23,
     "metadata": {},
     "output_type": "execute_result"
    }
   ],
   "source": [
    "#Calcul only on the first sequence\n",
    "count_nuc(df.Seq[1], \"A\")"
   ]
  },
  {
   "cell_type": "code",
   "execution_count": 24,
   "metadata": {},
   "outputs": [
    {
     "data": {
      "text/plain": [
       "0       5\n",
       "1       5\n",
       "2       5\n",
       "3       5\n",
       "4       5\n",
       "       ..\n",
       "3995    5\n",
       "3996    5\n",
       "3997    5\n",
       "3998    5\n",
       "3999    5\n",
       "Length: 4000, dtype: int64"
      ]
     },
     "execution_count": 24,
     "metadata": {},
     "output_type": "execute_result"
    }
   ],
   "source": [
    "#Use the .apply (check link for the arguments ex: axis)\n",
    "df.apply(len, axis = 1)"
   ]
  },
  {
   "cell_type": "code",
   "execution_count": 25,
   "metadata": {},
   "outputs": [],
   "source": [
    "#Modify our function\n",
    "def count_A (row):\n",
    "    return count_nuc(row.Seq, \"A\")"
   ]
  },
  {
   "cell_type": "code",
   "execution_count": 26,
   "metadata": {},
   "outputs": [
    {
     "data": {
      "text/plain": [
       "0       31\n",
       "1       12\n",
       "2        9\n",
       "3       10\n",
       "4        9\n",
       "        ..\n",
       "3995     9\n",
       "3996     6\n",
       "3997     7\n",
       "3998     9\n",
       "3999    10\n",
       "Length: 4000, dtype: int64"
      ]
     },
     "execution_count": 26,
     "metadata": {},
     "output_type": "execute_result"
    }
   ],
   "source": [
    "#Calculate the number of As in each sequence\n",
    "df.apply(count_A, axis=1)"
   ]
  },
  {
   "cell_type": "code",
   "execution_count": 27,
   "metadata": {},
   "outputs": [
    {
     "data": {
      "text/html": [
       "<div>\n",
       "<style scoped>\n",
       "    .dataframe tbody tr th:only-of-type {\n",
       "        vertical-align: middle;\n",
       "    }\n",
       "\n",
       "    .dataframe tbody tr th {\n",
       "        vertical-align: top;\n",
       "    }\n",
       "\n",
       "    .dataframe thead th {\n",
       "        text-align: right;\n",
       "    }\n",
       "</style>\n",
       "<table border=\"1\" class=\"dataframe\">\n",
       "  <thead>\n",
       "    <tr style=\"text-align: right;\">\n",
       "      <th></th>\n",
       "      <th>Seq</th>\n",
       "      <th>Id</th>\n",
       "      <th>Count</th>\n",
       "      <th>Test</th>\n",
       "      <th>frac</th>\n",
       "      <th>A</th>\n",
       "    </tr>\n",
       "  </thead>\n",
       "  <tbody>\n",
       "    <tr>\n",
       "      <th>0</th>\n",
       "      <td>AAAAAAAAAAAAAAAAAAAAAAAAAAAAAAA</td>\n",
       "      <td>1</td>\n",
       "      <td>113422</td>\n",
       "      <td>23</td>\n",
       "      <td>30.436766</td>\n",
       "      <td>31</td>\n",
       "    </tr>\n",
       "    <tr>\n",
       "      <th>1</th>\n",
       "      <td>CAGGACTCCAATATAGAGATAAGTTAATGTC</td>\n",
       "      <td>2</td>\n",
       "      <td>93</td>\n",
       "      <td>23</td>\n",
       "      <td>0.024957</td>\n",
       "      <td>12</td>\n",
       "    </tr>\n",
       "    <tr>\n",
       "      <th>2</th>\n",
       "      <td>TATGTAATTGGTTCCAGTGTGAGTCATTAAA</td>\n",
       "      <td>3</td>\n",
       "      <td>5</td>\n",
       "      <td>23</td>\n",
       "      <td>0.001342</td>\n",
       "      <td>9</td>\n",
       "    </tr>\n",
       "    <tr>\n",
       "      <th>3</th>\n",
       "      <td>GATATTTTCGAAAAGTGGGATTTTTTAAACC</td>\n",
       "      <td>4</td>\n",
       "      <td>88</td>\n",
       "      <td>23</td>\n",
       "      <td>0.023615</td>\n",
       "      <td>10</td>\n",
       "    </tr>\n",
       "    <tr>\n",
       "      <th>4</th>\n",
       "      <td>CTCCATCTCAGGTATTAGAATGAATGCTTAC</td>\n",
       "      <td>5</td>\n",
       "      <td>7</td>\n",
       "      <td>23</td>\n",
       "      <td>0.001878</td>\n",
       "      <td>9</td>\n",
       "    </tr>\n",
       "    <tr>\n",
       "      <th>...</th>\n",
       "      <td>...</td>\n",
       "      <td>...</td>\n",
       "      <td>...</td>\n",
       "      <td>...</td>\n",
       "      <td>...</td>\n",
       "      <td>...</td>\n",
       "    </tr>\n",
       "    <tr>\n",
       "      <th>3995</th>\n",
       "      <td>AGCTGCAGGAACTCCCTCGTCACAGCTTAAA</td>\n",
       "      <td>3996</td>\n",
       "      <td>5</td>\n",
       "      <td>23</td>\n",
       "      <td>0.001342</td>\n",
       "      <td>9</td>\n",
       "    </tr>\n",
       "    <tr>\n",
       "      <th>3996</th>\n",
       "      <td>CTGAGCTCTCTGGGAAAGTCGTGTTCCGGAA</td>\n",
       "      <td>3997</td>\n",
       "      <td>5</td>\n",
       "      <td>23</td>\n",
       "      <td>0.001342</td>\n",
       "      <td>6</td>\n",
       "    </tr>\n",
       "    <tr>\n",
       "      <th>3997</th>\n",
       "      <td>GTCTGCCTTTATGGCCTTTGTACTCAAAGAA</td>\n",
       "      <td>3998</td>\n",
       "      <td>10</td>\n",
       "      <td>23</td>\n",
       "      <td>0.002683</td>\n",
       "      <td>7</td>\n",
       "    </tr>\n",
       "    <tr>\n",
       "      <th>3998</th>\n",
       "      <td>AGACTATAGTGAGCTCAGGTGATTGATACTC</td>\n",
       "      <td>3999</td>\n",
       "      <td>7</td>\n",
       "      <td>23</td>\n",
       "      <td>0.001878</td>\n",
       "      <td>9</td>\n",
       "    </tr>\n",
       "    <tr>\n",
       "      <th>3999</th>\n",
       "      <td>AAACCCAGTCACTGGACACCTAAGTGTCCAC</td>\n",
       "      <td>4000</td>\n",
       "      <td>11</td>\n",
       "      <td>23</td>\n",
       "      <td>0.002952</td>\n",
       "      <td>10</td>\n",
       "    </tr>\n",
       "  </tbody>\n",
       "</table>\n",
       "<p>4000 rows × 6 columns</p>\n",
       "</div>"
      ],
      "text/plain": [
       "                                  Seq    Id   Count  Test       frac   A\n",
       "0     AAAAAAAAAAAAAAAAAAAAAAAAAAAAAAA     1  113422    23  30.436766  31\n",
       "1     CAGGACTCCAATATAGAGATAAGTTAATGTC     2      93    23   0.024957  12\n",
       "2     TATGTAATTGGTTCCAGTGTGAGTCATTAAA     3       5    23   0.001342   9\n",
       "3     GATATTTTCGAAAAGTGGGATTTTTTAAACC     4      88    23   0.023615  10\n",
       "4     CTCCATCTCAGGTATTAGAATGAATGCTTAC     5       7    23   0.001878   9\n",
       "...                               ...   ...     ...   ...        ...  ..\n",
       "3995  AGCTGCAGGAACTCCCTCGTCACAGCTTAAA  3996       5    23   0.001342   9\n",
       "3996  CTGAGCTCTCTGGGAAAGTCGTGTTCCGGAA  3997       5    23   0.001342   6\n",
       "3997  GTCTGCCTTTATGGCCTTTGTACTCAAAGAA  3998      10    23   0.002683   7\n",
       "3998  AGACTATAGTGAGCTCAGGTGATTGATACTC  3999       7    23   0.001878   9\n",
       "3999  AAACCCAGTCACTGGACACCTAAGTGTCCAC  4000      11    23   0.002952  10\n",
       "\n",
       "[4000 rows x 6 columns]"
      ]
     },
     "execution_count": 27,
     "metadata": {},
     "output_type": "execute_result"
    }
   ],
   "source": [
    "#Lets add the column\n",
    "df[\"A\"] = df.apply(count_A, axis=1)\n",
    "df"
   ]
  },
  {
   "cell_type": "markdown",
   "metadata": {},
   "source": [
    "(Doc: https://pandas.pydata.org/pandas-docs/stable/reference/api/pandas.DataFrame.loc.html)"
   ]
  },
  {
   "cell_type": "code",
   "execution_count": 28,
   "metadata": {},
   "outputs": [
    {
     "data": {
      "text/html": [
       "<div>\n",
       "<style scoped>\n",
       "    .dataframe tbody tr th:only-of-type {\n",
       "        vertical-align: middle;\n",
       "    }\n",
       "\n",
       "    .dataframe tbody tr th {\n",
       "        vertical-align: top;\n",
       "    }\n",
       "\n",
       "    .dataframe thead th {\n",
       "        text-align: right;\n",
       "    }\n",
       "</style>\n",
       "<table border=\"1\" class=\"dataframe\">\n",
       "  <thead>\n",
       "    <tr style=\"text-align: right;\">\n",
       "      <th></th>\n",
       "      <th>Seq</th>\n",
       "      <th>Id</th>\n",
       "      <th>Count</th>\n",
       "      <th>Test</th>\n",
       "      <th>frac</th>\n",
       "      <th>A</th>\n",
       "    </tr>\n",
       "  </thead>\n",
       "  <tbody>\n",
       "    <tr>\n",
       "      <th>0</th>\n",
       "      <td>AAAAAAAAAAAAAAAAAAAAAAAAAAAAAAA</td>\n",
       "      <td>1</td>\n",
       "      <td>113422</td>\n",
       "      <td>23</td>\n",
       "      <td>30.436766</td>\n",
       "      <td>31</td>\n",
       "    </tr>\n",
       "    <tr>\n",
       "      <th>6</th>\n",
       "      <td>CTTCCATGGCTGTCCGGATCGCCGCACTGCA</td>\n",
       "      <td>7</td>\n",
       "      <td>299</td>\n",
       "      <td>23</td>\n",
       "      <td>0.080237</td>\n",
       "      <td>4</td>\n",
       "    </tr>\n",
       "    <tr>\n",
       "      <th>7</th>\n",
       "      <td>GCACCAGGCCTTTCTCTAGAAGTCCTGAGAC</td>\n",
       "      <td>8</td>\n",
       "      <td>128</td>\n",
       "      <td>23</td>\n",
       "      <td>0.034349</td>\n",
       "      <td>7</td>\n",
       "    </tr>\n",
       "    <tr>\n",
       "      <th>11</th>\n",
       "      <td>ATCAATCGACTCAGATGATCAGTTTTGGTAG</td>\n",
       "      <td>12</td>\n",
       "      <td>252</td>\n",
       "      <td>23</td>\n",
       "      <td>0.067624</td>\n",
       "      <td>9</td>\n",
       "    </tr>\n",
       "    <tr>\n",
       "      <th>15</th>\n",
       "      <td>GGCCTGGGCTGGAAACAGCTCTGTGTGTGAA</td>\n",
       "      <td>16</td>\n",
       "      <td>330</td>\n",
       "      <td>23</td>\n",
       "      <td>0.088555</td>\n",
       "      <td>6</td>\n",
       "    </tr>\n",
       "    <tr>\n",
       "      <th>...</th>\n",
       "      <td>...</td>\n",
       "      <td>...</td>\n",
       "      <td>...</td>\n",
       "      <td>...</td>\n",
       "      <td>...</td>\n",
       "      <td>...</td>\n",
       "    </tr>\n",
       "    <tr>\n",
       "      <th>3969</th>\n",
       "      <td>AGTTTTCTAAAAAGGGGGAGAGTTGTGAAAG</td>\n",
       "      <td>3970</td>\n",
       "      <td>112</td>\n",
       "      <td>23</td>\n",
       "      <td>0.030055</td>\n",
       "      <td>11</td>\n",
       "    </tr>\n",
       "    <tr>\n",
       "      <th>3973</th>\n",
       "      <td>ATTATCTGGGCGTGGTGGCATGTGCCTGTAG</td>\n",
       "      <td>3974</td>\n",
       "      <td>130</td>\n",
       "      <td>23</td>\n",
       "      <td>0.034885</td>\n",
       "      <td>4</td>\n",
       "    </tr>\n",
       "    <tr>\n",
       "      <th>3975</th>\n",
       "      <td>CCTATGCTTTCCTTGGCATCGGCTACACATC</td>\n",
       "      <td>3976</td>\n",
       "      <td>352</td>\n",
       "      <td>23</td>\n",
       "      <td>0.094459</td>\n",
       "      <td>5</td>\n",
       "    </tr>\n",
       "    <tr>\n",
       "      <th>3987</th>\n",
       "      <td>AAGGGTGTCCTGCTCCTTGACCACGATGGGG</td>\n",
       "      <td>3988</td>\n",
       "      <td>172</td>\n",
       "      <td>23</td>\n",
       "      <td>0.046156</td>\n",
       "      <td>5</td>\n",
       "    </tr>\n",
       "    <tr>\n",
       "      <th>3994</th>\n",
       "      <td>AACCCAAGGAAAGAGAAATGCTGGGGTGTAT</td>\n",
       "      <td>3995</td>\n",
       "      <td>117</td>\n",
       "      <td>23</td>\n",
       "      <td>0.031397</td>\n",
       "      <td>12</td>\n",
       "    </tr>\n",
       "  </tbody>\n",
       "</table>\n",
       "<p>543 rows × 6 columns</p>\n",
       "</div>"
      ],
      "text/plain": [
       "                                  Seq    Id   Count  Test       frac   A\n",
       "0     AAAAAAAAAAAAAAAAAAAAAAAAAAAAAAA     1  113422    23  30.436766  31\n",
       "6     CTTCCATGGCTGTCCGGATCGCCGCACTGCA     7     299    23   0.080237   4\n",
       "7     GCACCAGGCCTTTCTCTAGAAGTCCTGAGAC     8     128    23   0.034349   7\n",
       "11    ATCAATCGACTCAGATGATCAGTTTTGGTAG    12     252    23   0.067624   9\n",
       "15    GGCCTGGGCTGGAAACAGCTCTGTGTGTGAA    16     330    23   0.088555   6\n",
       "...                               ...   ...     ...   ...        ...  ..\n",
       "3969  AGTTTTCTAAAAAGGGGGAGAGTTGTGAAAG  3970     112    23   0.030055  11\n",
       "3973  ATTATCTGGGCGTGGTGGCATGTGCCTGTAG  3974     130    23   0.034885   4\n",
       "3975  CCTATGCTTTCCTTGGCATCGGCTACACATC  3976     352    23   0.094459   5\n",
       "3987  AAGGGTGTCCTGCTCCTTGACCACGATGGGG  3988     172    23   0.046156   5\n",
       "3994  AACCCAAGGAAAGAGAAATGCTGGGGTGTAT  3995     117    23   0.031397  12\n",
       "\n",
       "[543 rows x 6 columns]"
      ]
     },
     "execution_count": 28,
     "metadata": {},
     "output_type": "execute_result"
    }
   ],
   "source": [
    "#loc shows the whole rows of sequences with count higher than a 100\n",
    "df.loc[o]"
   ]
  },
  {
   "cell_type": "code",
   "execution_count": 29,
   "metadata": {},
   "outputs": [],
   "source": [
    "#Can make a new dataframe with only that : df2 = df.loc[o]"
   ]
  },
  {
   "cell_type": "markdown",
   "metadata": {},
   "source": [
    "(Doc: https://pandas.pydata.org/pandas-docs/stable/reference/api/pandas.DataFrame.apply.html)"
   ]
  },
  {
   "cell_type": "markdown",
   "metadata": {},
   "source": [
    "(Whiz-kid corner: lambda expressions, https://docs.python.org/3/tutorial/controlflow.html#lambda-expressions)"
   ]
  },
  {
   "cell_type": "code",
   "execution_count": 30,
   "metadata": {},
   "outputs": [
    {
     "data": {
      "text/plain": [
       "0       31\n",
       "1       12\n",
       "2        9\n",
       "3       10\n",
       "4        9\n",
       "        ..\n",
       "3995     9\n",
       "3996     6\n",
       "3997     7\n",
       "3998     9\n",
       "3999    10\n",
       "Length: 4000, dtype: int64"
      ]
     },
     "execution_count": 30,
     "metadata": {},
     "output_type": "execute_result"
    }
   ],
   "source": [
    "#lambda expression (no more need for intermediate functions)\n",
    "df.apply(lambda row : count_nuc(row.Seq, \"A\"), axis=1)"
   ]
  },
  {
   "cell_type": "code",
   "execution_count": 31,
   "metadata": {},
   "outputs": [],
   "source": [
    "#Return a function directly\n",
    "def row_count_nuc(nuc):\n",
    "    def tmp(row):\n",
    "        return count_nuc(row.Seq, nuc)\n",
    "    return tmp"
   ]
  },
  {
   "cell_type": "code",
   "execution_count": 32,
   "metadata": {},
   "outputs": [],
   "source": [
    "f = row_count_nuc(\"A\")"
   ]
  },
  {
   "cell_type": "code",
   "execution_count": 33,
   "metadata": {},
   "outputs": [
    {
     "data": {
      "text/plain": [
       "0       31\n",
       "1       12\n",
       "2        9\n",
       "3       10\n",
       "4        9\n",
       "        ..\n",
       "3995     9\n",
       "3996     6\n",
       "3997     7\n",
       "3998     9\n",
       "3999    10\n",
       "Length: 4000, dtype: int64"
      ]
     },
     "execution_count": 33,
     "metadata": {},
     "output_type": "execute_result"
    }
   ],
   "source": [
    "df.apply(f, axis=1)"
   ]
  },
  {
   "cell_type": "markdown",
   "metadata": {},
   "source": [
    "### 2) Show the 10 sequences with the most number of A. How many reads do they represent? What % of the (truncated) transcriptome?\n",
    "(.sort_values())"
   ]
  },
  {
   "cell_type": "markdown",
   "metadata": {},
   "source": [
    "(Doc: https://pandas.pydata.org/pandas-docs/stable/reference/api/pandas.DataFrame.sort_values.html)"
   ]
  },
  {
   "cell_type": "code",
   "execution_count": 35,
   "metadata": {},
   "outputs": [
    {
     "data": {
      "text/html": [
       "<div>\n",
       "<style scoped>\n",
       "    .dataframe tbody tr th:only-of-type {\n",
       "        vertical-align: middle;\n",
       "    }\n",
       "\n",
       "    .dataframe tbody tr th {\n",
       "        vertical-align: top;\n",
       "    }\n",
       "\n",
       "    .dataframe thead th {\n",
       "        text-align: right;\n",
       "    }\n",
       "</style>\n",
       "<table border=\"1\" class=\"dataframe\">\n",
       "  <thead>\n",
       "    <tr style=\"text-align: right;\">\n",
       "      <th></th>\n",
       "      <th>Seq</th>\n",
       "      <th>Id</th>\n",
       "      <th>Count</th>\n",
       "      <th>Test</th>\n",
       "      <th>frac</th>\n",
       "      <th>A</th>\n",
       "    </tr>\n",
       "  </thead>\n",
       "  <tbody>\n",
       "    <tr>\n",
       "      <th>0</th>\n",
       "      <td>AAAAAAAAAAAAAAAAAAAAAAAAAAAAAAA</td>\n",
       "      <td>1</td>\n",
       "      <td>113422</td>\n",
       "      <td>23</td>\n",
       "      <td>30.436766</td>\n",
       "      <td>31</td>\n",
       "    </tr>\n",
       "    <tr>\n",
       "      <th>650</th>\n",
       "      <td>CAAAAAAAAAAAAACAAAAAACAAAAAAACA</td>\n",
       "      <td>651</td>\n",
       "      <td>13</td>\n",
       "      <td>23</td>\n",
       "      <td>0.003489</td>\n",
       "      <td>27</td>\n",
       "    </tr>\n",
       "    <tr>\n",
       "      <th>2507</th>\n",
       "      <td>AAATAACAAAAAATTAAAAAAAAAAAAAAAA</td>\n",
       "      <td>2508</td>\n",
       "      <td>5</td>\n",
       "      <td>23</td>\n",
       "      <td>0.001342</td>\n",
       "      <td>27</td>\n",
       "    </tr>\n",
       "    <tr>\n",
       "      <th>3678</th>\n",
       "      <td>AAAACAAAAACAAAACAAACAAACAAAAAAG</td>\n",
       "      <td>3679</td>\n",
       "      <td>26</td>\n",
       "      <td>23</td>\n",
       "      <td>0.006977</td>\n",
       "      <td>25</td>\n",
       "    </tr>\n",
       "    <tr>\n",
       "      <th>168</th>\n",
       "      <td>AAAAAAGATTAAAAAATTAAAAAAAAAAGAA</td>\n",
       "      <td>169</td>\n",
       "      <td>11</td>\n",
       "      <td>23</td>\n",
       "      <td>0.002952</td>\n",
       "      <td>25</td>\n",
       "    </tr>\n",
       "    <tr>\n",
       "      <th>2321</th>\n",
       "      <td>AATAACAGAAAGAAAACAAAAAGAAAAATAA</td>\n",
       "      <td>2322</td>\n",
       "      <td>57</td>\n",
       "      <td>23</td>\n",
       "      <td>0.015296</td>\n",
       "      <td>24</td>\n",
       "    </tr>\n",
       "    <tr>\n",
       "      <th>3880</th>\n",
       "      <td>AAAGAAAGAAAAAGAAAAAAAAAATAGCACA</td>\n",
       "      <td>3881</td>\n",
       "      <td>7</td>\n",
       "      <td>23</td>\n",
       "      <td>0.001878</td>\n",
       "      <td>24</td>\n",
       "    </tr>\n",
       "    <tr>\n",
       "      <th>2636</th>\n",
       "      <td>AAAATTAAAAAAAAAAAAAAAAAATTAGCCG</td>\n",
       "      <td>2637</td>\n",
       "      <td>6</td>\n",
       "      <td>23</td>\n",
       "      <td>0.001610</td>\n",
       "      <td>23</td>\n",
       "    </tr>\n",
       "    <tr>\n",
       "      <th>3491</th>\n",
       "      <td>AAAAGAAGACAAAAGAAAAGAGAAAGAAGAA</td>\n",
       "      <td>3492</td>\n",
       "      <td>7</td>\n",
       "      <td>23</td>\n",
       "      <td>0.001878</td>\n",
       "      <td>23</td>\n",
       "    </tr>\n",
       "    <tr>\n",
       "      <th>3186</th>\n",
       "      <td>ATAAATAAAAAGGAAAAGAAAAGAAAAGAAG</td>\n",
       "      <td>3187</td>\n",
       "      <td>24</td>\n",
       "      <td>23</td>\n",
       "      <td>0.006440</td>\n",
       "      <td>23</td>\n",
       "    </tr>\n",
       "  </tbody>\n",
       "</table>\n",
       "</div>"
      ],
      "text/plain": [
       "                                  Seq    Id   Count  Test       frac   A\n",
       "0     AAAAAAAAAAAAAAAAAAAAAAAAAAAAAAA     1  113422    23  30.436766  31\n",
       "650   CAAAAAAAAAAAAACAAAAAACAAAAAAACA   651      13    23   0.003489  27\n",
       "2507  AAATAACAAAAAATTAAAAAAAAAAAAAAAA  2508       5    23   0.001342  27\n",
       "3678  AAAACAAAAACAAAACAAACAAACAAAAAAG  3679      26    23   0.006977  25\n",
       "168   AAAAAAGATTAAAAAATTAAAAAAAAAAGAA   169      11    23   0.002952  25\n",
       "2321  AATAACAGAAAGAAAACAAAAAGAAAAATAA  2322      57    23   0.015296  24\n",
       "3880  AAAGAAAGAAAAAGAAAAAAAAAATAGCACA  3881       7    23   0.001878  24\n",
       "2636  AAAATTAAAAAAAAAAAAAAAAAATTAGCCG  2637       6    23   0.001610  23\n",
       "3491  AAAAGAAGACAAAAGAAAAGAGAAAGAAGAA  3492       7    23   0.001878  23\n",
       "3186  ATAAATAAAAAGGAAAAGAAAAGAAAAGAAG  3187      24    23   0.006440  23"
      ]
     },
     "execution_count": 35,
     "metadata": {},
     "output_type": "execute_result"
    }
   ],
   "source": [
    "df_A = df.sort_values(by=\"A\", ascending=False)\n",
    "df_A[0:10]"
   ]
  },
  {
   "cell_type": "code",
   "execution_count": 36,
   "metadata": {},
   "outputs": [
    {
     "data": {
      "text/plain": [
       "113578"
      ]
     },
     "execution_count": 36,
     "metadata": {},
     "output_type": "execute_result"
    }
   ],
   "source": [
    "#How many reads they represent\n",
    "sum(df_A[0:10].Count)"
   ]
  },
  {
   "cell_type": "code",
   "execution_count": 37,
   "metadata": {},
   "outputs": [
    {
     "data": {
      "text/plain": [
       "0       30.436766\n",
       "650      0.003489\n",
       "2507     0.001342\n",
       "3678     0.006977\n",
       "168      0.002952\n",
       "2321     0.015296\n",
       "3880     0.001878\n",
       "2636     0.001610\n",
       "3491     0.001878\n",
       "3186     0.006440\n",
       "Name: Count, dtype: float64"
      ]
     },
     "execution_count": 37,
     "metadata": {},
     "output_type": "execute_result"
    }
   ],
   "source": [
    "#% of the transcriptome\n",
    "df_A[0:10].Count / sum(df.Count)*100"
   ]
  },
  {
   "cell_type": "markdown",
   "metadata": {},
   "source": [
    "### 3) How many sequences with 25 or more As? Then, check that the result is correct.\n",
    "(Cond. row selection)"
   ]
  },
  {
   "cell_type": "code",
   "execution_count": 39,
   "metadata": {},
   "outputs": [
    {
     "data": {
      "text/plain": [
       "5"
      ]
     },
     "execution_count": 39,
     "metadata": {},
     "output_type": "execute_result"
    }
   ],
   "source": [
    "#Use brackets when there's a space in a column name\n",
    "a = df_A[\"A\"] >= 25\n",
    "sum(a)"
   ]
  },
  {
   "cell_type": "markdown",
   "metadata": {},
   "source": [
    "### 4) Clean up the dataframe (or re-load), add counts for all 4 nucl"
   ]
  },
  {
   "cell_type": "code",
   "execution_count": 89,
   "metadata": {
    "scrolled": true
   },
   "outputs": [],
   "source": [
    "df2 = pandas.read_table(\"kmers.tsv\")"
   ]
  },
  {
   "cell_type": "markdown",
   "metadata": {},
   "source": [
    "(Whiz kid corner: a function returning a function)"
   ]
  },
  {
   "cell_type": "code",
   "execution_count": 79,
   "metadata": {},
   "outputs": [],
   "source": [
    "def count_C (row):\n",
    "    return count_nuc(row.Seq, \"C\")"
   ]
  },
  {
   "cell_type": "code",
   "execution_count": 80,
   "metadata": {},
   "outputs": [],
   "source": [
    "def count_T (row):\n",
    "    return count_nuc(row.Seq, \"T\")"
   ]
  },
  {
   "cell_type": "code",
   "execution_count": 81,
   "metadata": {},
   "outputs": [],
   "source": [
    "def count_G (row):\n",
    "    return count_nuc(row.Seq, \"G\")"
   ]
  },
  {
   "cell_type": "code",
   "execution_count": 108,
   "metadata": {},
   "outputs": [
    {
     "data": {
      "text/html": [
       "<div>\n",
       "<style scoped>\n",
       "    .dataframe tbody tr th:only-of-type {\n",
       "        vertical-align: middle;\n",
       "    }\n",
       "\n",
       "    .dataframe tbody tr th {\n",
       "        vertical-align: top;\n",
       "    }\n",
       "\n",
       "    .dataframe thead th {\n",
       "        text-align: right;\n",
       "    }\n",
       "</style>\n",
       "<table border=\"1\" class=\"dataframe\">\n",
       "  <thead>\n",
       "    <tr style=\"text-align: right;\">\n",
       "      <th></th>\n",
       "      <th>Seq</th>\n",
       "      <th>Id</th>\n",
       "      <th>Count</th>\n",
       "      <th>A</th>\n",
       "      <th>T</th>\n",
       "      <th>C</th>\n",
       "      <th>G</th>\n",
       "      <th>CG %</th>\n",
       "    </tr>\n",
       "  </thead>\n",
       "  <tbody>\n",
       "    <tr>\n",
       "      <th>0</th>\n",
       "      <td>AAAAAAAAAAAAAAAAAAAAAAAAAAAAAAA</td>\n",
       "      <td>1</td>\n",
       "      <td>113422</td>\n",
       "      <td>31</td>\n",
       "      <td>0</td>\n",
       "      <td>0</td>\n",
       "      <td>0</td>\n",
       "      <td>0.000000</td>\n",
       "    </tr>\n",
       "    <tr>\n",
       "      <th>1</th>\n",
       "      <td>CAGGACTCCAATATAGAGATAAGTTAATGTC</td>\n",
       "      <td>2</td>\n",
       "      <td>93</td>\n",
       "      <td>12</td>\n",
       "      <td>8</td>\n",
       "      <td>5</td>\n",
       "      <td>6</td>\n",
       "      <td>35.483871</td>\n",
       "    </tr>\n",
       "    <tr>\n",
       "      <th>2</th>\n",
       "      <td>TATGTAATTGGTTCCAGTGTGAGTCATTAAA</td>\n",
       "      <td>3</td>\n",
       "      <td>5</td>\n",
       "      <td>9</td>\n",
       "      <td>12</td>\n",
       "      <td>3</td>\n",
       "      <td>7</td>\n",
       "      <td>32.258065</td>\n",
       "    </tr>\n",
       "    <tr>\n",
       "      <th>3</th>\n",
       "      <td>GATATTTTCGAAAAGTGGGATTTTTTAAACC</td>\n",
       "      <td>4</td>\n",
       "      <td>88</td>\n",
       "      <td>10</td>\n",
       "      <td>12</td>\n",
       "      <td>3</td>\n",
       "      <td>6</td>\n",
       "      <td>29.032258</td>\n",
       "    </tr>\n",
       "    <tr>\n",
       "      <th>4</th>\n",
       "      <td>CTCCATCTCAGGTATTAGAATGAATGCTTAC</td>\n",
       "      <td>5</td>\n",
       "      <td>7</td>\n",
       "      <td>9</td>\n",
       "      <td>10</td>\n",
       "      <td>7</td>\n",
       "      <td>5</td>\n",
       "      <td>38.709677</td>\n",
       "    </tr>\n",
       "    <tr>\n",
       "      <th>...</th>\n",
       "      <td>...</td>\n",
       "      <td>...</td>\n",
       "      <td>...</td>\n",
       "      <td>...</td>\n",
       "      <td>...</td>\n",
       "      <td>...</td>\n",
       "      <td>...</td>\n",
       "      <td>...</td>\n",
       "    </tr>\n",
       "    <tr>\n",
       "      <th>3995</th>\n",
       "      <td>AGCTGCAGGAACTCCCTCGTCACAGCTTAAA</td>\n",
       "      <td>3996</td>\n",
       "      <td>5</td>\n",
       "      <td>9</td>\n",
       "      <td>6</td>\n",
       "      <td>10</td>\n",
       "      <td>6</td>\n",
       "      <td>51.612903</td>\n",
       "    </tr>\n",
       "    <tr>\n",
       "      <th>3996</th>\n",
       "      <td>CTGAGCTCTCTGGGAAAGTCGTGTTCCGGAA</td>\n",
       "      <td>3997</td>\n",
       "      <td>5</td>\n",
       "      <td>6</td>\n",
       "      <td>8</td>\n",
       "      <td>7</td>\n",
       "      <td>10</td>\n",
       "      <td>54.838710</td>\n",
       "    </tr>\n",
       "    <tr>\n",
       "      <th>3997</th>\n",
       "      <td>GTCTGCCTTTATGGCCTTTGTACTCAAAGAA</td>\n",
       "      <td>3998</td>\n",
       "      <td>10</td>\n",
       "      <td>7</td>\n",
       "      <td>11</td>\n",
       "      <td>7</td>\n",
       "      <td>6</td>\n",
       "      <td>41.935484</td>\n",
       "    </tr>\n",
       "    <tr>\n",
       "      <th>3998</th>\n",
       "      <td>AGACTATAGTGAGCTCAGGTGATTGATACTC</td>\n",
       "      <td>3999</td>\n",
       "      <td>7</td>\n",
       "      <td>9</td>\n",
       "      <td>9</td>\n",
       "      <td>5</td>\n",
       "      <td>8</td>\n",
       "      <td>41.935484</td>\n",
       "    </tr>\n",
       "    <tr>\n",
       "      <th>3999</th>\n",
       "      <td>AAACCCAGTCACTGGACACCTAAGTGTCCAC</td>\n",
       "      <td>4000</td>\n",
       "      <td>11</td>\n",
       "      <td>10</td>\n",
       "      <td>5</td>\n",
       "      <td>11</td>\n",
       "      <td>5</td>\n",
       "      <td>51.612903</td>\n",
       "    </tr>\n",
       "  </tbody>\n",
       "</table>\n",
       "<p>4000 rows × 8 columns</p>\n",
       "</div>"
      ],
      "text/plain": [
       "                                  Seq    Id   Count   A   T   C   G       CG %\n",
       "0     AAAAAAAAAAAAAAAAAAAAAAAAAAAAAAA     1  113422  31   0   0   0   0.000000\n",
       "1     CAGGACTCCAATATAGAGATAAGTTAATGTC     2      93  12   8   5   6  35.483871\n",
       "2     TATGTAATTGGTTCCAGTGTGAGTCATTAAA     3       5   9  12   3   7  32.258065\n",
       "3     GATATTTTCGAAAAGTGGGATTTTTTAAACC     4      88  10  12   3   6  29.032258\n",
       "4     CTCCATCTCAGGTATTAGAATGAATGCTTAC     5       7   9  10   7   5  38.709677\n",
       "...                               ...   ...     ...  ..  ..  ..  ..        ...\n",
       "3995  AGCTGCAGGAACTCCCTCGTCACAGCTTAAA  3996       5   9   6  10   6  51.612903\n",
       "3996  CTGAGCTCTCTGGGAAAGTCGTGTTCCGGAA  3997       5   6   8   7  10  54.838710\n",
       "3997  GTCTGCCTTTATGGCCTTTGTACTCAAAGAA  3998      10   7  11   7   6  41.935484\n",
       "3998  AGACTATAGTGAGCTCAGGTGATTGATACTC  3999       7   9   9   5   8  41.935484\n",
       "3999  AAACCCAGTCACTGGACACCTAAGTGTCCAC  4000      11  10   5  11   5  51.612903\n",
       "\n",
       "[4000 rows x 8 columns]"
      ]
     },
     "execution_count": 108,
     "metadata": {},
     "output_type": "execute_result"
    }
   ],
   "source": [
    "df2[\"A\"] = df2.apply(count_A, axis=1)\n",
    "df2[\"T\"] = df2.apply(count_T, axis=1)\n",
    "df2[\"C\"] = df2.apply(count_C, axis=1)\n",
    "df2[\"G\"] = df2.apply(count_G, axis=1)\n",
    "df2"
   ]
  },
  {
   "cell_type": "markdown",
   "metadata": {},
   "source": [
    "### 5) Add a %GC column"
   ]
  },
  {
   "cell_type": "code",
   "execution_count": 83,
   "metadata": {},
   "outputs": [
    {
     "data": {
      "text/plain": [
       "0        0\n",
       "1       11\n",
       "2       10\n",
       "3        9\n",
       "4       12\n",
       "        ..\n",
       "3995    16\n",
       "3996    17\n",
       "3997    13\n",
       "3998    13\n",
       "3999    16\n",
       "Length: 4000, dtype: int64"
      ]
     },
     "execution_count": 83,
     "metadata": {},
     "output_type": "execute_result"
    }
   ],
   "source": [
    "df2.C + df2.G"
   ]
  },
  {
   "cell_type": "code",
   "execution_count": 84,
   "metadata": {},
   "outputs": [
    {
     "data": {
      "text/plain": [
       "0       31\n",
       "1       20\n",
       "2       21\n",
       "3       22\n",
       "4       19\n",
       "        ..\n",
       "3995    15\n",
       "3996    14\n",
       "3997    18\n",
       "3998    18\n",
       "3999    15\n",
       "Length: 4000, dtype: int64"
      ]
     },
     "execution_count": 84,
     "metadata": {},
     "output_type": "execute_result"
    }
   ],
   "source": [
    "df2[\"T\"] + df2.A"
   ]
  },
  {
   "cell_type": "code",
   "execution_count": 97,
   "metadata": {},
   "outputs": [
    {
     "data": {
      "text/html": [
       "<div>\n",
       "<style scoped>\n",
       "    .dataframe tbody tr th:only-of-type {\n",
       "        vertical-align: middle;\n",
       "    }\n",
       "\n",
       "    .dataframe tbody tr th {\n",
       "        vertical-align: top;\n",
       "    }\n",
       "\n",
       "    .dataframe thead th {\n",
       "        text-align: right;\n",
       "    }\n",
       "</style>\n",
       "<table border=\"1\" class=\"dataframe\">\n",
       "  <thead>\n",
       "    <tr style=\"text-align: right;\">\n",
       "      <th></th>\n",
       "      <th>Seq</th>\n",
       "      <th>Id</th>\n",
       "      <th>Count</th>\n",
       "      <th>A</th>\n",
       "      <th>T</th>\n",
       "      <th>C</th>\n",
       "      <th>G</th>\n",
       "      <th>CG %</th>\n",
       "    </tr>\n",
       "  </thead>\n",
       "  <tbody>\n",
       "    <tr>\n",
       "      <th>0</th>\n",
       "      <td>AAAAAAAAAAAAAAAAAAAAAAAAAAAAAAA</td>\n",
       "      <td>1</td>\n",
       "      <td>113422</td>\n",
       "      <td>31</td>\n",
       "      <td>0</td>\n",
       "      <td>0</td>\n",
       "      <td>0</td>\n",
       "      <td>0.000000</td>\n",
       "    </tr>\n",
       "    <tr>\n",
       "      <th>1</th>\n",
       "      <td>CAGGACTCCAATATAGAGATAAGTTAATGTC</td>\n",
       "      <td>2</td>\n",
       "      <td>93</td>\n",
       "      <td>12</td>\n",
       "      <td>8</td>\n",
       "      <td>5</td>\n",
       "      <td>6</td>\n",
       "      <td>35.483871</td>\n",
       "    </tr>\n",
       "    <tr>\n",
       "      <th>2</th>\n",
       "      <td>TATGTAATTGGTTCCAGTGTGAGTCATTAAA</td>\n",
       "      <td>3</td>\n",
       "      <td>5</td>\n",
       "      <td>9</td>\n",
       "      <td>12</td>\n",
       "      <td>3</td>\n",
       "      <td>7</td>\n",
       "      <td>32.258065</td>\n",
       "    </tr>\n",
       "    <tr>\n",
       "      <th>3</th>\n",
       "      <td>GATATTTTCGAAAAGTGGGATTTTTTAAACC</td>\n",
       "      <td>4</td>\n",
       "      <td>88</td>\n",
       "      <td>10</td>\n",
       "      <td>12</td>\n",
       "      <td>3</td>\n",
       "      <td>6</td>\n",
       "      <td>29.032258</td>\n",
       "    </tr>\n",
       "    <tr>\n",
       "      <th>4</th>\n",
       "      <td>CTCCATCTCAGGTATTAGAATGAATGCTTAC</td>\n",
       "      <td>5</td>\n",
       "      <td>7</td>\n",
       "      <td>9</td>\n",
       "      <td>10</td>\n",
       "      <td>7</td>\n",
       "      <td>5</td>\n",
       "      <td>38.709677</td>\n",
       "    </tr>\n",
       "    <tr>\n",
       "      <th>...</th>\n",
       "      <td>...</td>\n",
       "      <td>...</td>\n",
       "      <td>...</td>\n",
       "      <td>...</td>\n",
       "      <td>...</td>\n",
       "      <td>...</td>\n",
       "      <td>...</td>\n",
       "      <td>...</td>\n",
       "    </tr>\n",
       "    <tr>\n",
       "      <th>3995</th>\n",
       "      <td>AGCTGCAGGAACTCCCTCGTCACAGCTTAAA</td>\n",
       "      <td>3996</td>\n",
       "      <td>5</td>\n",
       "      <td>9</td>\n",
       "      <td>6</td>\n",
       "      <td>10</td>\n",
       "      <td>6</td>\n",
       "      <td>51.612903</td>\n",
       "    </tr>\n",
       "    <tr>\n",
       "      <th>3996</th>\n",
       "      <td>CTGAGCTCTCTGGGAAAGTCGTGTTCCGGAA</td>\n",
       "      <td>3997</td>\n",
       "      <td>5</td>\n",
       "      <td>6</td>\n",
       "      <td>8</td>\n",
       "      <td>7</td>\n",
       "      <td>10</td>\n",
       "      <td>54.838710</td>\n",
       "    </tr>\n",
       "    <tr>\n",
       "      <th>3997</th>\n",
       "      <td>GTCTGCCTTTATGGCCTTTGTACTCAAAGAA</td>\n",
       "      <td>3998</td>\n",
       "      <td>10</td>\n",
       "      <td>7</td>\n",
       "      <td>11</td>\n",
       "      <td>7</td>\n",
       "      <td>6</td>\n",
       "      <td>41.935484</td>\n",
       "    </tr>\n",
       "    <tr>\n",
       "      <th>3998</th>\n",
       "      <td>AGACTATAGTGAGCTCAGGTGATTGATACTC</td>\n",
       "      <td>3999</td>\n",
       "      <td>7</td>\n",
       "      <td>9</td>\n",
       "      <td>9</td>\n",
       "      <td>5</td>\n",
       "      <td>8</td>\n",
       "      <td>41.935484</td>\n",
       "    </tr>\n",
       "    <tr>\n",
       "      <th>3999</th>\n",
       "      <td>AAACCCAGTCACTGGACACCTAAGTGTCCAC</td>\n",
       "      <td>4000</td>\n",
       "      <td>11</td>\n",
       "      <td>10</td>\n",
       "      <td>5</td>\n",
       "      <td>11</td>\n",
       "      <td>5</td>\n",
       "      <td>51.612903</td>\n",
       "    </tr>\n",
       "  </tbody>\n",
       "</table>\n",
       "<p>4000 rows × 8 columns</p>\n",
       "</div>"
      ],
      "text/plain": [
       "                                  Seq    Id   Count   A   T   C   G       CG %\n",
       "0     AAAAAAAAAAAAAAAAAAAAAAAAAAAAAAA     1  113422  31   0   0   0   0.000000\n",
       "1     CAGGACTCCAATATAGAGATAAGTTAATGTC     2      93  12   8   5   6  35.483871\n",
       "2     TATGTAATTGGTTCCAGTGTGAGTCATTAAA     3       5   9  12   3   7  32.258065\n",
       "3     GATATTTTCGAAAAGTGGGATTTTTTAAACC     4      88  10  12   3   6  29.032258\n",
       "4     CTCCATCTCAGGTATTAGAATGAATGCTTAC     5       7   9  10   7   5  38.709677\n",
       "...                               ...   ...     ...  ..  ..  ..  ..        ...\n",
       "3995  AGCTGCAGGAACTCCCTCGTCACAGCTTAAA  3996       5   9   6  10   6  51.612903\n",
       "3996  CTGAGCTCTCTGGGAAAGTCGTGTTCCGGAA  3997       5   6   8   7  10  54.838710\n",
       "3997  GTCTGCCTTTATGGCCTTTGTACTCAAAGAA  3998      10   7  11   7   6  41.935484\n",
       "3998  AGACTATAGTGAGCTCAGGTGATTGATACTC  3999       7   9   9   5   8  41.935484\n",
       "3999  AAACCCAGTCACTGGACACCTAAGTGTCCAC  4000      11  10   5  11   5  51.612903\n",
       "\n",
       "[4000 rows x 8 columns]"
      ]
     },
     "execution_count": 97,
     "metadata": {},
     "output_type": "execute_result"
    }
   ],
   "source": [
    "df2[\"CG %\"] = ((df2.C+df2.G)/(df2.A+df2[\"T\"]+df2.C+df2.G))*100\n",
    "df2"
   ]
  },
  {
   "cell_type": "markdown",
   "metadata": {},
   "source": [
    "### 6) And find the 10 sequences with highest GC content. How many reads do they represent?\n",
    "(as a bonus, store this result in a new dataframe with only columns: Seq, Id, Count and %GC. You might need a few extra \"tricks\" with .loc[:,[\"Col1\", \"Col2\"])"
   ]
  },
  {
   "cell_type": "code",
   "execution_count": 98,
   "metadata": {},
   "outputs": [
    {
     "data": {
      "text/html": [
       "<div>\n",
       "<style scoped>\n",
       "    .dataframe tbody tr th:only-of-type {\n",
       "        vertical-align: middle;\n",
       "    }\n",
       "\n",
       "    .dataframe tbody tr th {\n",
       "        vertical-align: top;\n",
       "    }\n",
       "\n",
       "    .dataframe thead th {\n",
       "        text-align: right;\n",
       "    }\n",
       "</style>\n",
       "<table border=\"1\" class=\"dataframe\">\n",
       "  <thead>\n",
       "    <tr style=\"text-align: right;\">\n",
       "      <th></th>\n",
       "      <th>Seq</th>\n",
       "      <th>Id</th>\n",
       "      <th>Count</th>\n",
       "      <th>A</th>\n",
       "      <th>T</th>\n",
       "      <th>C</th>\n",
       "      <th>G</th>\n",
       "      <th>CG %</th>\n",
       "    </tr>\n",
       "  </thead>\n",
       "  <tbody>\n",
       "    <tr>\n",
       "      <th>1735</th>\n",
       "      <td>CTGCCCGCGCCCGCCGCCCAGGACCCCGCAC</td>\n",
       "      <td>1736</td>\n",
       "      <td>6</td>\n",
       "      <td>3</td>\n",
       "      <td>1</td>\n",
       "      <td>19</td>\n",
       "      <td>8</td>\n",
       "      <td>87.096774</td>\n",
       "    </tr>\n",
       "    <tr>\n",
       "      <th>1508</th>\n",
       "      <td>ACGCACCCCTCCCCGGCCTGGGCGGCGGCGA</td>\n",
       "      <td>1509</td>\n",
       "      <td>72</td>\n",
       "      <td>3</td>\n",
       "      <td>2</td>\n",
       "      <td>15</td>\n",
       "      <td>11</td>\n",
       "      <td>83.870968</td>\n",
       "    </tr>\n",
       "    <tr>\n",
       "      <th>963</th>\n",
       "      <td>CCGCGCCGCCCGGGCACCATGGCGGGGAAGG</td>\n",
       "      <td>964</td>\n",
       "      <td>7</td>\n",
       "      <td>4</td>\n",
       "      <td>1</td>\n",
       "      <td>12</td>\n",
       "      <td>14</td>\n",
       "      <td>83.870968</td>\n",
       "    </tr>\n",
       "    <tr>\n",
       "      <th>233</th>\n",
       "      <td>ACCCGGCGCCCGGCCAGTCCTGCGCGTCCCC</td>\n",
       "      <td>234</td>\n",
       "      <td>38</td>\n",
       "      <td>2</td>\n",
       "      <td>3</td>\n",
       "      <td>17</td>\n",
       "      <td>9</td>\n",
       "      <td>83.870968</td>\n",
       "    </tr>\n",
       "    <tr>\n",
       "      <th>3390</th>\n",
       "      <td>GCACGGGCGAAGGGGCCGCGGCCGCATGCCC</td>\n",
       "      <td>3391</td>\n",
       "      <td>64</td>\n",
       "      <td>4</td>\n",
       "      <td>1</td>\n",
       "      <td>12</td>\n",
       "      <td>14</td>\n",
       "      <td>83.870968</td>\n",
       "    </tr>\n",
       "    <tr>\n",
       "      <th>1222</th>\n",
       "      <td>CTGCGGGGGGCCTGCGGAGACGGCGCCCGCA</td>\n",
       "      <td>1223</td>\n",
       "      <td>5</td>\n",
       "      <td>3</td>\n",
       "      <td>2</td>\n",
       "      <td>11</td>\n",
       "      <td>15</td>\n",
       "      <td>83.870968</td>\n",
       "    </tr>\n",
       "    <tr>\n",
       "      <th>1751</th>\n",
       "      <td>CGGCGGTTGGCGGGGCACCACGGGAGGGGCC</td>\n",
       "      <td>1752</td>\n",
       "      <td>19</td>\n",
       "      <td>3</td>\n",
       "      <td>2</td>\n",
       "      <td>9</td>\n",
       "      <td>17</td>\n",
       "      <td>83.870968</td>\n",
       "    </tr>\n",
       "    <tr>\n",
       "      <th>3021</th>\n",
       "      <td>GGGTCCGGCGCCGCCGGCTGCGGCTTCGCGA</td>\n",
       "      <td>3022</td>\n",
       "      <td>21</td>\n",
       "      <td>1</td>\n",
       "      <td>4</td>\n",
       "      <td>12</td>\n",
       "      <td>14</td>\n",
       "      <td>83.870968</td>\n",
       "    </tr>\n",
       "    <tr>\n",
       "      <th>1899</th>\n",
       "      <td>AGGACTGGGGGGAGGCGGGCACCCCAGCGGG</td>\n",
       "      <td>1900</td>\n",
       "      <td>42</td>\n",
       "      <td>5</td>\n",
       "      <td>1</td>\n",
       "      <td>8</td>\n",
       "      <td>17</td>\n",
       "      <td>80.645161</td>\n",
       "    </tr>\n",
       "    <tr>\n",
       "      <th>2320</th>\n",
       "      <td>GCAGGTCGCCCTGGGGTGCCCGCGCGTGGGA</td>\n",
       "      <td>2321</td>\n",
       "      <td>9</td>\n",
       "      <td>2</td>\n",
       "      <td>4</td>\n",
       "      <td>10</td>\n",
       "      <td>15</td>\n",
       "      <td>80.645161</td>\n",
       "    </tr>\n",
       "  </tbody>\n",
       "</table>\n",
       "</div>"
      ],
      "text/plain": [
       "                                  Seq    Id  Count  A  T   C   G       CG %\n",
       "1735  CTGCCCGCGCCCGCCGCCCAGGACCCCGCAC  1736      6  3  1  19   8  87.096774\n",
       "1508  ACGCACCCCTCCCCGGCCTGGGCGGCGGCGA  1509     72  3  2  15  11  83.870968\n",
       "963   CCGCGCCGCCCGGGCACCATGGCGGGGAAGG   964      7  4  1  12  14  83.870968\n",
       "233   ACCCGGCGCCCGGCCAGTCCTGCGCGTCCCC   234     38  2  3  17   9  83.870968\n",
       "3390  GCACGGGCGAAGGGGCCGCGGCCGCATGCCC  3391     64  4  1  12  14  83.870968\n",
       "1222  CTGCGGGGGGCCTGCGGAGACGGCGCCCGCA  1223      5  3  2  11  15  83.870968\n",
       "1751  CGGCGGTTGGCGGGGCACCACGGGAGGGGCC  1752     19  3  2   9  17  83.870968\n",
       "3021  GGGTCCGGCGCCGCCGGCTGCGGCTTCGCGA  3022     21  1  4  12  14  83.870968\n",
       "1899  AGGACTGGGGGGAGGCGGGCACCCCAGCGGG  1900     42  5  1   8  17  80.645161\n",
       "2320  GCAGGTCGCCCTGGGGTGCCCGCGCGTGGGA  2321      9  2  4  10  15  80.645161"
      ]
     },
     "execution_count": 98,
     "metadata": {},
     "output_type": "execute_result"
    }
   ],
   "source": [
    "df_CG = df2.sort_values(by=\"CG %\", ascending=False)\n",
    "df_CG[0:10]"
   ]
  },
  {
   "cell_type": "code",
   "execution_count": 99,
   "metadata": {},
   "outputs": [
    {
     "data": {
      "text/plain": [
       "283"
      ]
     },
     "execution_count": 99,
     "metadata": {},
     "output_type": "execute_result"
    }
   ],
   "source": [
    "#How many reads they represent\n",
    "sum(df_CG[0:10].Count)"
   ]
  },
  {
   "cell_type": "markdown",
   "metadata": {},
   "source": [
    "### 7) How many sequences with ≥ 50%GC (1453)? What is the %GC of all the sequences joined together (44.8%)? How many sequence have %GC above this average value (2104)?"
   ]
  },
  {
   "cell_type": "code",
   "execution_count": 101,
   "metadata": {},
   "outputs": [
    {
     "data": {
      "text/plain": [
       "1453"
      ]
     },
     "execution_count": 101,
     "metadata": {},
     "output_type": "execute_result"
    }
   ],
   "source": [
    "#How many sequences with ≥ 50%GC (1453)?\n",
    "cg = df_CG[\"CG %\"] >= 50\n",
    "sum(cg)"
   ]
  },
  {
   "cell_type": "code",
   "execution_count": 103,
   "metadata": {},
   "outputs": [
    {
     "data": {
      "text/plain": [
       "44.83629032258051"
      ]
     },
     "execution_count": 103,
     "metadata": {},
     "output_type": "execute_result"
    }
   ],
   "source": [
    "#What is the %GC of all the sequences joined together (44.8%)?\n",
    "sum(df2[\"CG %\"])/len(df2[\"CG %\"])"
   ]
  },
  {
   "cell_type": "code",
   "execution_count": 105,
   "metadata": {},
   "outputs": [
    {
     "data": {
      "text/plain": [
       "2104"
      ]
     },
     "execution_count": 105,
     "metadata": {},
     "output_type": "execute_result"
    }
   ],
   "source": [
    "#How many sequence have %GC above this average value (2104)?\n",
    "cg44 = df_CG[\"CG %\"] >= 44.83629032258051\n",
    "sum(cg44)"
   ]
  },
  {
   "cell_type": "markdown",
   "metadata": {
    "tags": []
   },
   "source": [
    "### (*Challenge!*): Which sequence would form the longest helix linking the 5' and 3' extremities (no overhang)?\n",
    "(Answer: ATGAATTGAGTTGTGTCCCCCCAAAATTCAT, 7 base pairs, line number 2827)\n",
    "(Working with GPT-4: https://chatgpt.com/share/4687f755-e276-4d69-94c3-68be6dc5b584  Search for \"Can you write a function that...\")"
   ]
  },
  {
   "cell_type": "code",
   "execution_count": 162,
   "metadata": {},
   "outputs": [],
   "source": [
    "#ChatGPT answer\n",
    "def longest_helix(sequences):\n",
    "    complements = {'A': 'T', 'T': 'A', 'C': 'G', 'G': 'C'}\n",
    "    def find_longest_helix(seq):\n",
    "        max_length = 0\n",
    "        length = len(seq)\n",
    "        for i in range(1, length+1):\n",
    "            if all(seq[j] == complements[seq[-j-1]] for j in range(i)):\n",
    "                max_length = 1\n",
    "            else:\n",
    "                break\n",
    "        return max_length\n",
    "    longest = {'sequence': '', 'helix_length': 0}\n",
    "    for seq in sequences:\n",
    "        helix_length = find_longest_helix(seq)\n",
    "        if helix_length > longest['helix_length']:\n",
    "            longest = {'sequence': seq, 'helix_length': helix_length}\n",
    "    return longest\n",
    "                     "
   ]
  },
  {
   "cell_type": "code",
   "execution_count": 163,
   "metadata": {},
   "outputs": [
    {
     "name": "stdout",
     "output_type": "stream",
     "text": [
      "Sequence: TATGTAATTGGTTCCAGTGTGAGTCATTAAA, Helix Length: 1\n"
     ]
    }
   ],
   "source": [
    "result = longest_helix(df2.Seq)\n",
    "print(f\"Sequence: {result['sequence']}, Helix Length: {result['helix_length']}\")\n",
    "#Wrong answer"
   ]
  },
  {
   "cell_type": "code",
   "execution_count": 165,
   "metadata": {},
   "outputs": [],
   "source": [
    "def longest_helix(sequences):\n",
    "    complements = {'A': 'T', 'T': 'A', 'C': 'G', 'G': 'C'}\n",
    "    def find_longest_helix(seq):\n",
    "        max_length = 0\n",
    "        n = len(seq)\n",
    "        for i in range(n):\n",
    "            match = True\n",
    "            for j in range(i+1):\n",
    "                if seq[j] != complements.get(seq[-(i + 1) + j], ''):\n",
    "                    match = False\n",
    "                    break\n",
    "            if match:\n",
    "                max_length = i + 1\n",
    "            else:\n",
    "                break\n",
    "        return max_length\n",
    "    longest = {'sequence': '', 'helix_length': 0}\n",
    "    for seq in sequences:\n",
    "        helix_length = find_longest_helix(seq)\n",
    "        if helix_length > longest['helix_length']:\n",
    "            longest = {'sequence': seq, 'helix_length': helix_length}\n",
    "    return longest\n",
    "        "
   ]
  },
  {
   "cell_type": "code",
   "execution_count": 166,
   "metadata": {},
   "outputs": [
    {
     "name": "stdout",
     "output_type": "stream",
     "text": [
      "Sequence: GGGGACTGCGGAGGCCAGCAGTGAACACCCC, Helix Length: 4\n"
     ]
    }
   ],
   "source": [
    "result = longest_helix(df2.Seq)\n",
    "print(f\"Sequence: {result['sequence']}, Helix Length: {result['helix_length']}\")\n",
    "#Wrong answer"
   ]
  },
  {
   "cell_type": "code",
   "execution_count": 179,
   "metadata": {},
   "outputs": [],
   "source": [
    "def longest_helix(sequences):\n",
    "    complements = {'A': 'T', 'T': 'A', 'C': 'G', 'G': 'C'}\n",
    "    def find_longest_helix(seq):\n",
    "        max_length = 0\n",
    "        n = len(seq)\n",
    "        for i in range(n):\n",
    "            match = True\n",
    "            for j in range(i+1):\n",
    "                if seq[j] != complements.get(seq[-(i + 1) + j], ''):\n",
    "                    match = False\n",
    "                    break\n",
    "            if match:\n",
    "                max_length = i + 1\n",
    "                \n",
    "        return max_length\n",
    "    \n",
    "    longest = {'sequence': '', 'helix_length': 0}\n",
    "    for seq in sequences:\n",
    "        helix_length = find_longest_helix(seq)\n",
    "        if helix_length > longest['helix_length']:\n",
    "            longest = {'sequence': seq, 'helix_length': helix_length}\n",
    "    return longest\n",
    "        "
   ]
  },
  {
   "cell_type": "code",
   "execution_count": 180,
   "metadata": {},
   "outputs": [
    {
     "name": "stdout",
     "output_type": "stream",
     "text": [
      "Sequence: ATTTTATACCAACAACTGTTTCATCTTAAAA, Helix Length: 5\n"
     ]
    }
   ],
   "source": [
    "result = longest_helix(df2.Seq)\n",
    "print(f\"Sequence: {result['sequence']}, Helix Length: {result['helix_length']}\")\n",
    "#Wrong answer"
   ]
  },
  {
   "cell_type": "code",
   "execution_count": 177,
   "metadata": {},
   "outputs": [],
   "source": [
    "def longest_helix(sequences):\n",
    "    complements = {'A': 'T', 'T': 'A', 'C': 'G', 'G': 'C'}\n",
    "    def find_longest_helix(seq):\n",
    "        max_length = 0\n",
    "        n = len(seq)\n",
    "        for length in range (1, n // 2 + 1):\n",
    "            match = True\n",
    "            for i in range(length):\n",
    "                if seq[i] != complements.get(seq[-length + i], ''):\n",
    "                    match = False\n",
    "                    break\n",
    "            if match:\n",
    "                max_length = length\n",
    "                \n",
    "        return max_length\n",
    "    \n",
    "    longest = {'sequence': '', 'helix_length': 0}\n",
    "    for seq in sequences:\n",
    "        helix_length = find_longest_helix(seq)\n",
    "        if helix_length > longest['helix_length']:\n",
    "            longest = {'sequence': seq, 'helix_length': helix_length}\n",
    "    return longest\n",
    "        "
   ]
  },
  {
   "cell_type": "code",
   "execution_count": 178,
   "metadata": {},
   "outputs": [
    {
     "name": "stdout",
     "output_type": "stream",
     "text": [
      "Sequence: ATTTTATACCAACAACTGTTTCATCTTAAAA, Helix Length: 5\n"
     ]
    }
   ],
   "source": [
    "result = longest_helix(df2.Seq)\n",
    "print(f\"Sequence: {result['sequence']}, Helix Length: {result['helix_length']}\")\n",
    "#Wrong answer"
   ]
  }
 ],
 "metadata": {
  "kernelspec": {
   "display_name": "Python (bioinfo)",
   "language": "python",
   "name": "bioinfo"
  },
  "language_info": {
   "codemirror_mode": {
    "name": "ipython",
    "version": 3
   },
   "file_extension": ".py",
   "mimetype": "text/x-python",
   "name": "python",
   "nbconvert_exporter": "python",
   "pygments_lexer": "ipython3",
   "version": "3.10.4"
  }
 },
 "nbformat": 4,
 "nbformat_minor": 4
}
